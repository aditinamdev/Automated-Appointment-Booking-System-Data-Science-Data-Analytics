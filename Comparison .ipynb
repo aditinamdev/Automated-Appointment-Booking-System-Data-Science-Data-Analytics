{
 "cells": [
  {
   "cell_type": "code",
   "execution_count": 1,
   "metadata": {
    "scrolled": true
   },
   "outputs": [
    {
     "name": "stdout",
     "output_type": "stream",
     "text": [
      "Collecting datacompy\n",
      "  Downloading datacompy-0.7.2-py3-none-any.whl (27 kB)\n",
      "Requirement already satisfied: pandas>=0.25.0 in c:\\users\\admin\\anaconda3\\lib\\site-packages (from datacompy) (1.0.1)\n",
      "Requirement already satisfied: numpy>=1.11.3 in c:\\users\\admin\\anaconda3\\lib\\site-packages (from datacompy) (1.18.1)\n",
      "Requirement already satisfied: python-dateutil>=2.6.1 in c:\\users\\admin\\anaconda3\\lib\\site-packages (from pandas>=0.25.0->datacompy) (2.8.1)\n",
      "Requirement already satisfied: pytz>=2017.2 in c:\\users\\admin\\anaconda3\\lib\\site-packages (from pandas>=0.25.0->datacompy) (2019.3)\n",
      "Requirement already satisfied: six>=1.5 in c:\\users\\admin\\anaconda3\\lib\\site-packages (from python-dateutil>=2.6.1->pandas>=0.25.0->datacompy) (1.14.0)\n",
      "Installing collected packages: datacompy\n",
      "Successfully installed datacompy-0.7.2\n",
      "Note: you may need to restart the kernel to use updated packages.\n"
     ]
    }
   ],
   "source": [
    "pip install datacompy"
   ]
  },
  {
   "cell_type": "code",
   "execution_count": 1,
   "metadata": {
    "scrolled": false
   },
   "outputs": [
    {
     "name": "stdout",
     "output_type": "stream",
     "text": [
      "      PatientId  AppointmentID Gender          ScheduledDay  \\\n",
      "0  2.987250e+13        5642903      F  2016-04-29T18:38:08Z   \n",
      "1  5.589980e+14        5642503      M  2016-04-29T16:08:27Z   \n",
      "2  4.262960e+12        5642549      F  2016-04-29T16:19:04Z   \n",
      "3  8.679510e+11        5642828      F  2016-04-29T17:29:31Z   \n",
      "4  8.841190e+12        5642494      F  2016-04-29T16:07:23Z   \n",
      "5  9.598510e+13        5626772      F  2016-04-27T08:36:51Z   \n",
      "6  7.336880e+14        5630279      F  2016-04-27T15:05:12Z   \n",
      "7  3.449830e+12        5630575      F  2016-04-27T15:39:58Z   \n",
      "8  5.639470e+13        5638447      F  2016-04-29T08:02:16Z   \n",
      "9  7.812460e+13        5629123      F  2016-04-27T12:48:25Z   \n",
      "\n",
      "         AppointmentDay  Age      Neighbourhood  Unnamed: 7  Hipertension  \\\n",
      "0  2016-04-29T00:00:00Z   62    JARDIM DA PENHA         NaN             1   \n",
      "1  2016-04-29T00:00:00Z   56    JARDIM DA PENHA         NaN             0   \n",
      "2  2016-04-29T00:00:00Z   62      MATA DA PRAIA         NaN             0   \n",
      "3  2016-04-29T00:00:00Z    8  PONTAL DE CAMBURI         NaN             0   \n",
      "4  2016-04-29T00:00:00Z   56    JARDIM DA PENHA         NaN             1   \n",
      "5  2016-04-29T00:00:00Z   76          REPÚBLICA         NaN             1   \n",
      "6  2016-04-29T00:00:00Z   23         GOIABEIRAS         NaN             0   \n",
      "7  2016-04-29T00:00:00Z   39         GOIABEIRAS         NaN             0   \n",
      "8  2016-04-29T00:00:00Z   21         ANDORINHAS         NaN             0   \n",
      "9  2016-04-29T00:00:00Z   19          CONQUISTA         NaN             0   \n",
      "\n",
      "   Diabetes  Alcoholism  \n",
      "0         0           0  \n",
      "1         0           0  \n",
      "2         0           0  \n",
      "3         0           0  \n",
      "4         1           0  \n",
      "5         0           0  \n",
      "6         0           0  \n",
      "7         0           0  \n",
      "8         0           0  \n",
      "9         0           0  \n",
      "   Patient Age Patient Gender Patient Location (District) Symptoms  \\\n",
      "0           26           MALE                       Thane     cold   \n",
      "1           32         FEMALE                      Mumbai    fever   \n",
      "2           45           MALE                      Raigad    cough   \n",
      "3           20         FEMALE                       Thane     cold   \n",
      "4           23           MALE                      Mumbai    fever   \n",
      "5           33         FEMALE                      Raigad    cough   \n",
      "6           24           MALE                 navi mumbai     cold   \n",
      "7           55         FEMALE                 navi mumbai    fever   \n",
      "8           43           MALE                       Thane    cough   \n",
      "9           24         FEMALE                      Mumbai     cold   \n",
      "\n",
      "  Pre-existing conditions Scheduled Appointment BOOKING NUMBER  \n",
      "0                diabetes            7-Jul-2018             B1  \n",
      "1                    none            8-Jul-2018             B2  \n",
      "2            hypertension            9-Jul-2018             B3  \n",
      "3             hypotension           10-Jul-2018             B4  \n",
      "4                diabetes           11-Jul-2018             B5  \n",
      "5                    none           12-Jul-2018             B6  \n",
      "6            hypertension           13-Jul-2018             B7  \n",
      "7             hypotension           14-Jul-2018             B8  \n",
      "8                diabetes           15-Jul-2018             B9  \n",
      "9                    none           16-Jul-2018            B10  \n"
     ]
    }
   ],
   "source": [
    "import datacompy, pandas as pd\n",
    "df1 = pd.read_csv('Dataset.csv')\n",
    "df2 = pd.read_csv('realtime_data_set_final.csv')\n",
    "print(df1.head(10))\n",
    "print(df2.head(10))"
   ]
  },
  {
   "cell_type": "code",
   "execution_count": 2,
   "metadata": {},
   "outputs": [
    {
     "name": "stdout",
     "output_type": "stream",
     "text": [
      "DataComPy Comparison\n",
      "--------------------\n",
      "\n",
      "DataFrame Summary\n",
      "-----------------\n",
      "\n",
      "  DataFrame  Columns    Rows\n",
      "0     Trial       11  110527\n",
      "1      Test        7    1000\n",
      "\n",
      "Column Summary\n",
      "--------------\n",
      "\n",
      "Number of columns in common: 0\n",
      "Number of columns in Trial but not in Test: 11\n",
      "Number of columns in Test but not in Trial: 7\n",
      "\n",
      "Row Summary\n",
      "-----------\n",
      "\n",
      "Matched on: index\n",
      "Any duplicates on match values: No\n",
      "Absolute Tolerance: 0\n",
      "Relative Tolerance: 0\n",
      "Number of rows in common: 1,000\n",
      "Number of rows in Trial but not in Test: 109,527\n",
      "Number of rows in Test but not in Trial: 0\n",
      "\n",
      "Number of rows with some compared columns unequal: 0\n",
      "Number of rows with all compared columns equal: 1,000\n",
      "\n",
      "Column Comparison\n",
      "-----------------\n",
      "\n",
      "Number of columns compared with some values unequal: 0\n",
      "Number of columns compared with all values equal: 0\n",
      "Total number of values which compare unequal: 0\n",
      "\n",
      "Sample Rows Only in Trial (First 10 Columns)\n",
      "--------------------------------------------\n",
      "\n",
      "           patientid  appointmentid gender          scheduledday        appointmentday  age   neighbourhood  unnamed: 7  hipertension  diabetes\n",
      "75453   8.274450e+14        5673059      F  2016-05-09T08:51:16Z  2016-05-09T00:00:00Z   32  NOVA PALESTINA         NaN             0         0\n",
      "72591   9.157890e+11        5751373      F  2016-05-31T10:01:08Z  2016-05-31T00:00:00Z   56         ITARARÉ         NaN             0         0\n",
      "105727  9.924260e+12        5770609      F  2016-06-03T10:40:51Z  2016-06-07T00:00:00Z   38       CARATOÍRA         NaN             0         0\n",
      "7738    1.448000e+13        5696186      M  2016-05-13T11:56:39Z  2016-05-13T00:00:00Z   36          BONFIM         NaN             1         0\n",
      "74030   7.598480e+13        5659574      M  2016-05-04T14:15:44Z  2016-05-04T00:00:00Z   50         COMDUSA         NaN             1         0\n",
      "4094    6.617920e+12        5655421      F  2016-05-03T17:09:43Z  2016-05-18T00:00:00Z   54     MARIA ORTIZ         NaN             0         0\n",
      "3549    3.166230e+12        5615375      M  2016-04-25T12:14:57Z  2016-05-30T00:00:00Z   30     RESISTÊNCIA         NaN             0         0\n",
      "98882   2.398900e+14        5786673      M  2016-06-08T08:44:03Z  2016-06-08T00:00:00Z   52    SANTA MARTHA         NaN             1         0\n",
      "29464   8.414830e+12        5655151      F  2016-05-03T16:07:16Z  2016-05-18T00:00:00Z   19           ROMÃO         NaN             0         0\n",
      "7556    1.426680e+13        5597031      M  2016-04-18T15:40:53Z  2016-05-09T00:00:00Z    9      BELA VISTA         NaN             0         0\n",
      "\n",
      "\n"
     ]
    }
   ],
   "source": [
    "import datacompy\n",
    "import pandas as pd\n",
    "df1 = pd.read_csv('Dataset.csv')\n",
    "df2 = pd.read_csv('realtime_data_set_final.csv')\n",
    "compare = datacompy.Compare(\n",
    "df1,\n",
    "df2,\n",
    "on_index=True,  #You can also specify a list of columns eg ['policyID','statecode']\n",
    "abs_tol=0, #Optional, defaults to 0\n",
    "rel_tol=0, #Optional, defaults to 0\n",
    "df1_name='Trial', #Optional, defaults to 'df1'\n",
    "df2_name='Test' #Optional, defaults to 'df2'\n",
    ")\n",
    "print(compare.report())"
   ]
  }
 ],
 "metadata": {
  "kernelspec": {
   "display_name": "Python 3",
   "language": "python",
   "name": "python3"
  },
  "language_info": {
   "codemirror_mode": {
    "name": "ipython",
    "version": 3
   },
   "file_extension": ".py",
   "mimetype": "text/x-python",
   "name": "python",
   "nbconvert_exporter": "python",
   "pygments_lexer": "ipython3",
   "version": "3.7.6"
  }
 },
 "nbformat": 4,
 "nbformat_minor": 4
}
